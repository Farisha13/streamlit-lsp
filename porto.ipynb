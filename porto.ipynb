{
 "cells": [
  {
   "cell_type": "code",
   "execution_count": 19,
   "id": "dbf41b2f-0c40-445b-bad2-020515c0e20d",
   "metadata": {},
   "outputs": [],
   "source": [
    "import pandas as pd\n",
    "import numpy as np\n",
    "import seaborn as sns\n",
    "\n",
    "import matplotlib.pyplot as plt"
   ]
  },
  {
   "cell_type": "code",
   "execution_count": 20,
   "id": "91d25433-cbb8-4d6c-9a9b-88d94444d14d",
   "metadata": {},
   "outputs": [],
   "source": [
    "df =  pd.read_csv(\"fish_data.csv\")"
   ]
  },
  {
   "cell_type": "code",
   "execution_count": 21,
   "id": "83ce7132-ad06-43ef-ba67-d4246fc5e51d",
   "metadata": {},
   "outputs": [
    {
     "name": "stdout",
     "output_type": "stream",
     "text": [
      "<class 'pandas.core.frame.DataFrame'>\n",
      "RangeIndex: 4080 entries, 0 to 4079\n",
      "Data columns (total 4 columns):\n",
      " #   Column     Non-Null Count  Dtype  \n",
      "---  ------     --------------  -----  \n",
      " 0   species    4080 non-null   object \n",
      " 1   length     4080 non-null   float64\n",
      " 2   weight     4080 non-null   float64\n",
      " 3   w_l_ratio  4080 non-null   float64\n",
      "dtypes: float64(3), object(1)\n",
      "memory usage: 127.6+ KB\n"
     ]
    }
   ],
   "source": [
    "df.info()"
   ]
  },
  {
   "cell_type": "code",
   "execution_count": 22,
   "id": "f12873ec-4cbc-41b0-8957-4dcfc72f8c12",
   "metadata": {},
   "outputs": [
    {
     "data": {
      "text/plain": [
       "species      0\n",
       "length       0\n",
       "weight       0\n",
       "w_l_ratio    0\n",
       "dtype: int64"
      ]
     },
     "execution_count": 22,
     "metadata": {},
     "output_type": "execute_result"
    }
   ],
   "source": [
    "# Menghitung nilai data yang kosong\n",
    "df.isna().sum()"
   ]
  },
  {
   "cell_type": "code",
   "execution_count": 23,
   "id": "0256896b-bc8c-4344-93eb-73eb392ae79c",
   "metadata": {},
   "outputs": [
    {
     "data": {
      "text/html": [
       "<div>\n",
       "<style scoped>\n",
       "    .dataframe tbody tr th:only-of-type {\n",
       "        vertical-align: middle;\n",
       "    }\n",
       "\n",
       "    .dataframe tbody tr th {\n",
       "        vertical-align: top;\n",
       "    }\n",
       "\n",
       "    .dataframe thead th {\n",
       "        text-align: right;\n",
       "    }\n",
       "</style>\n",
       "<table border=\"1\" class=\"dataframe\">\n",
       "  <thead>\n",
       "    <tr style=\"text-align: right;\">\n",
       "      <th></th>\n",
       "      <th>length</th>\n",
       "      <th>weight</th>\n",
       "      <th>w_l_ratio</th>\n",
       "    </tr>\n",
       "  </thead>\n",
       "  <tbody>\n",
       "    <tr>\n",
       "      <th>count</th>\n",
       "      <td>4080.00000</td>\n",
       "      <td>4080.000000</td>\n",
       "      <td>4080.000000</td>\n",
       "    </tr>\n",
       "    <tr>\n",
       "      <th>mean</th>\n",
       "      <td>16.69040</td>\n",
       "      <td>3.455341</td>\n",
       "      <td>0.242659</td>\n",
       "    </tr>\n",
       "    <tr>\n",
       "      <th>std</th>\n",
       "      <td>6.71153</td>\n",
       "      <td>0.715064</td>\n",
       "      <td>0.115420</td>\n",
       "    </tr>\n",
       "    <tr>\n",
       "      <th>min</th>\n",
       "      <td>6.41000</td>\n",
       "      <td>2.070000</td>\n",
       "      <td>0.100000</td>\n",
       "    </tr>\n",
       "    <tr>\n",
       "      <th>25%</th>\n",
       "      <td>11.44000</td>\n",
       "      <td>3.000000</td>\n",
       "      <td>0.150000</td>\n",
       "    </tr>\n",
       "    <tr>\n",
       "      <th>50%</th>\n",
       "      <td>16.48000</td>\n",
       "      <td>3.200000</td>\n",
       "      <td>0.190000</td>\n",
       "    </tr>\n",
       "    <tr>\n",
       "      <th>75%</th>\n",
       "      <td>19.68000</td>\n",
       "      <td>3.890000</td>\n",
       "      <td>0.320000</td>\n",
       "    </tr>\n",
       "    <tr>\n",
       "      <th>max</th>\n",
       "      <td>33.89000</td>\n",
       "      <td>4.790000</td>\n",
       "      <td>0.610000</td>\n",
       "    </tr>\n",
       "  </tbody>\n",
       "</table>\n",
       "</div>"
      ],
      "text/plain": [
       "           length       weight    w_l_ratio\n",
       "count  4080.00000  4080.000000  4080.000000\n",
       "mean     16.69040     3.455341     0.242659\n",
       "std       6.71153     0.715064     0.115420\n",
       "min       6.41000     2.070000     0.100000\n",
       "25%      11.44000     3.000000     0.150000\n",
       "50%      16.48000     3.200000     0.190000\n",
       "75%      19.68000     3.890000     0.320000\n",
       "max      33.89000     4.790000     0.610000"
      ]
     },
     "execution_count": 23,
     "metadata": {},
     "output_type": "execute_result"
    }
   ],
   "source": [
    "df.describe()"
   ]
  },
  {
   "cell_type": "code",
   "execution_count": 24,
   "id": "24e8442d-4d92-4e8e-af9c-36588ec607e7",
   "metadata": {},
   "outputs": [
    {
     "name": "stdout",
     "output_type": "stream",
     "text": [
      "<class 'pandas.core.frame.DataFrame'>\n",
      "RangeIndex: 4080 entries, 0 to 4079\n",
      "Data columns (total 4 columns):\n",
      " #   Column     Non-Null Count  Dtype  \n",
      "---  ------     --------------  -----  \n",
      " 0   species    4080 non-null   object \n",
      " 1   length     4080 non-null   float64\n",
      " 2   weight     4080 non-null   float64\n",
      " 3   w_l_ratio  4080 non-null   float64\n",
      "dtypes: float64(3), object(1)\n",
      "memory usage: 127.6+ KB\n"
     ]
    }
   ],
   "source": [
    "df.info()"
   ]
  },
  {
   "cell_type": "code",
   "execution_count": 25,
   "id": "7eb3e7d2-0c83-4278-88ec-86a1f9d778b1",
   "metadata": {},
   "outputs": [
    {
     "name": "stdout",
     "output_type": "stream",
     "text": [
      "Jumlah baris: 4080\n",
      "Jumlah kolom: 4\n"
     ]
    }
   ],
   "source": [
    "print(\"Jumlah baris:\", df.shape[0])\n",
    "print(\"Jumlah kolom:\", df.shape[1])"
   ]
  },
  {
   "cell_type": "code",
   "execution_count": 26,
   "id": "ae00374e-cebb-47af-8d58-0f8d960d1411",
   "metadata": {},
   "outputs": [
    {
     "data": {
      "text/html": [
       "<div>\n",
       "<style scoped>\n",
       "    .dataframe tbody tr th:only-of-type {\n",
       "        vertical-align: middle;\n",
       "    }\n",
       "\n",
       "    .dataframe tbody tr th {\n",
       "        vertical-align: top;\n",
       "    }\n",
       "\n",
       "    .dataframe thead th {\n",
       "        text-align: right;\n",
       "    }\n",
       "</style>\n",
       "<table border=\"1\" class=\"dataframe\">\n",
       "  <thead>\n",
       "    <tr style=\"text-align: right;\">\n",
       "      <th></th>\n",
       "      <th>species</th>\n",
       "      <th>length</th>\n",
       "      <th>weight</th>\n",
       "      <th>w_l_ratio</th>\n",
       "    </tr>\n",
       "  </thead>\n",
       "  <tbody>\n",
       "    <tr>\n",
       "      <th>0</th>\n",
       "      <td>Anabas testudineus</td>\n",
       "      <td>8.57</td>\n",
       "      <td>2.93</td>\n",
       "      <td>0.34</td>\n",
       "    </tr>\n",
       "    <tr>\n",
       "      <th>1</th>\n",
       "      <td>Anabas testudineus</td>\n",
       "      <td>6.69</td>\n",
       "      <td>3.05</td>\n",
       "      <td>0.46</td>\n",
       "    </tr>\n",
       "    <tr>\n",
       "      <th>2</th>\n",
       "      <td>Anabas testudineus</td>\n",
       "      <td>8.35</td>\n",
       "      <td>3.08</td>\n",
       "      <td>0.37</td>\n",
       "    </tr>\n",
       "    <tr>\n",
       "      <th>3</th>\n",
       "      <td>Anabas testudineus</td>\n",
       "      <td>8.84</td>\n",
       "      <td>3.20</td>\n",
       "      <td>0.36</td>\n",
       "    </tr>\n",
       "    <tr>\n",
       "      <th>4</th>\n",
       "      <td>Anabas testudineus</td>\n",
       "      <td>7.82</td>\n",
       "      <td>3.07</td>\n",
       "      <td>0.39</td>\n",
       "    </tr>\n",
       "  </tbody>\n",
       "</table>\n",
       "</div>"
      ],
      "text/plain": [
       "              species  length  weight  w_l_ratio\n",
       "0  Anabas testudineus    8.57    2.93       0.34\n",
       "1  Anabas testudineus    6.69    3.05       0.46\n",
       "2  Anabas testudineus    8.35    3.08       0.37\n",
       "3  Anabas testudineus    8.84    3.20       0.36\n",
       "4  Anabas testudineus    7.82    3.07       0.39"
      ]
     },
     "execution_count": 26,
     "metadata": {},
     "output_type": "execute_result"
    }
   ],
   "source": [
    "df.head()"
   ]
  },
  {
   "cell_type": "code",
   "execution_count": 27,
   "id": "0c3ab07f-68f1-4018-9fa1-e97b02265822",
   "metadata": {},
   "outputs": [
    {
     "data": {
      "text/plain": [
       "species      0\n",
       "length       0\n",
       "weight       0\n",
       "w_l_ratio    0\n",
       "dtype: int64"
      ]
     },
     "execution_count": 27,
     "metadata": {},
     "output_type": "execute_result"
    }
   ],
   "source": [
    "#cek null\n",
    "df.isna().sum()"
   ]
  },
  {
   "cell_type": "code",
   "execution_count": 28,
   "id": "53fad774-e35f-46ab-bf5d-b652efc3c35c",
   "metadata": {},
   "outputs": [
    {
     "data": {
      "text/plain": [
       "77"
      ]
     },
     "execution_count": 28,
     "metadata": {},
     "output_type": "execute_result"
    }
   ],
   "source": [
    "#cek duplikat\n",
    "df.duplicated().sum()"
   ]
  },
  {
   "cell_type": "code",
   "execution_count": 29,
   "id": "1a411f11-546c-4867-9853-fce8c491b995",
   "metadata": {},
   "outputs": [],
   "source": [
    "numerik = df.select_dtypes(exclude=\"object\")\n",
    "kategorikal = df.select_dtypes(include=\"object\")"
   ]
  },
  {
   "cell_type": "code",
   "execution_count": 30,
   "id": "622fe7b3-10b6-45d9-875b-ee4cb9d08e26",
   "metadata": {},
   "outputs": [
    {
     "data": {
      "image/png": "[encoded data removed]",
      "text/plain": [
       "<Figure size 300x200 with 1 Axes>"
      ]
     },
     "metadata": {},
     "output_type": "display_data"
    },
    {
     "data": {
      "image/png": "[encoded data removed]",
      "text/plain": [
       "<Figure size 300x200 with 1 Axes>"
      ]
     },
     "metadata": {},
     "output_type": "display_data"
    },
    {
     "data": {
      "image/png": "[encoded data removed]",
      "text/plain": [
       "<Figure size 300x200 with 1 Axes>"
      ]
     },
     "metadata": {},
     "output_type": "display_data"
    }
   ],
   "source": [
    "# Melihat Persebaran Data - Histogram\n",
    "for column in numerik.columns:\n",
    "        plt.figure(figsize=(3,2))\n",
    "        plt.hist(df[column])\n",
    "        plt.title(column)\n",
    "        plt.show()"
   ]
  },
  {
   "cell_type": "code",
   "execution_count": 31,
   "id": "b5d0b971-8e5b-432b-9ce1-b949fb681476",
   "metadata": {},
   "outputs": [],
   "source": [
    "# Remove Duplicated\n",
    "df_cleaned = df.drop_duplicates()"
   ]
  },
  {
   "cell_type": "code",
   "execution_count": 32,
   "id": "baa8874a-800e-4937-aa8b-66c9011bf6c5",
   "metadata": {},
   "outputs": [
    {
     "data": {
      "text/plain": [
       "0"
      ]
     },
     "execution_count": 32,
     "metadata": {},
     "output_type": "execute_result"
    }
   ],
   "source": [
    "df_cleaned.duplicated().sum()"
   ]
  },
  {
   "cell_type": "code",
   "execution_count": 33,
   "id": "8d00ac94-49cc-49d5-83f1-8ef9728d2dbc",
   "metadata": {},
   "outputs": [
    {
     "data": {
      "image/png": "[encoded data removed]",
      "text/plain": [
       "<Figure size 2000x200 with 1 Axes>"
      ]
     },
     "metadata": {},
     "output_type": "display_data"
    },
    {
     "data": {
      "image/png": "[encoded data removed]",
      "text/plain": [
       "<Figure size 2000x200 with 1 Axes>"
      ]
     },
     "metadata": {},
     "output_type": "display_data"
    },
    {
     "data": {
      "image/png": "[encoded data removed]",
      "text/plain": [
       "<Figure size 2000x200 with 1 Axes>"
      ]
     },
     "metadata": {},
     "output_type": "display_data"
    }
   ],
   "source": [
    "# Mencari Outliers - Boxplot\n",
    "df_outlier = df_cleaned.select_dtypes(exclude=['object'])\n",
    "for column in df_outlier:\n",
    "        plt.figure(figsize=(20,2))\n",
    "        sns.boxplot(data=df_outlier, x=column)"
   ]
  },
  {
   "cell_type": "code",
   "execution_count": 34,
   "id": "c5e7a294-212e-412b-9324-1aed474f93d0",
   "metadata": {},
   "outputs": [
    {
     "data": {
      "text/plain": [
       "length       8.155\n",
       "weight       0.880\n",
       "w_l_ratio    0.170\n",
       "dtype: float64"
      ]
     },
     "execution_count": 34,
     "metadata": {},
     "output_type": "execute_result"
    }
   ],
   "source": [
    "Q1 = df_cleaned.select_dtypes(exclude=\"object\").quantile(0.25)\n",
    "Q3 = df_cleaned.select_dtypes(exclude=\"object\").quantile(0.75)\n",
    "IQR = Q3-Q1\n",
    "IQR"
   ]
  },
  {
   "cell_type": "code",
   "execution_count": 35,
   "id": "05518890-5604-41a9-aab2-74ddf2faa012",
   "metadata": {},
   "outputs": [
    {
     "data": {
      "text/plain": [
       "length       31.8925\n",
       "weight        5.2000\n",
       "w_l_ratio     0.5750\n",
       "dtype: float64"
      ]
     },
     "execution_count": 35,
     "metadata": {},
     "output_type": "execute_result"
    }
   ],
   "source": [
    "batas_atas = Q3+(1.5*IQR)\n",
    "batas_atas"
   ]
  },
  {
   "cell_type": "code",
   "execution_count": 36,
   "id": "536f025a-ba3b-40e5-8bf5-e9fafbd9f34a",
   "metadata": {},
   "outputs": [],
   "source": [
    "df_cleaned = df_cleaned[~((df_cleaned.select_dtypes(exclude=\"object\") < Q1 - 1.5 * IQR)\n",
    "| (df_cleaned.select_dtypes(exclude=\"object\") > Q3 + 1.5 * IQR)).any(axis=1)]"
   ]
  },
  {
   "cell_type": "code",
   "execution_count": 37,
   "id": "fd1cedca-33bd-47ca-8cba-a2aff514191d",
   "metadata": {},
   "outputs": [
    {
     "data": {
      "text/plain": [
       "(3847, 4)"
      ]
     },
     "execution_count": 37,
     "metadata": {},
     "output_type": "execute_result"
    }
   ],
   "source": [
    "df_cleaned.shape"
   ]
  },
  {
   "cell_type": "code",
   "execution_count": 38,
   "id": "ad9a6bfd-c23c-442e-a05e-174a5b6b4c9d",
   "metadata": {},
   "outputs": [
    {
     "data": {
      "text/plain": [
       "7.854999999999999"
      ]
     },
     "execution_count": 38,
     "metadata": {},
     "output_type": "execute_result"
    }
   ],
   "source": [
    "Q1 = df_cleaned['length'].quantile(0.25)\n",
    "Q3 = df_cleaned['length'].quantile(0.75)\n",
    "IQR = Q3-Q1\n",
    "IQR"
   ]
  },
  {
   "cell_type": "code",
   "execution_count": 39,
   "id": "32441203-355f-4617-bd2b-061e5c1ca307",
   "metadata": {},
   "outputs": [
    {
     "data": {
      "text/plain": [
       "30.987499999999997"
      ]
     },
     "execution_count": 39,
     "metadata": {},
     "output_type": "execute_result"
    }
   ],
   "source": [
    "batas_atas = Q3+(1.5*IQR)\n",
    "batas_atas"
   ]
  },
  {
   "cell_type": "code",
   "execution_count": 40,
   "id": "7eabc3ab-c3f2-487c-9e95-0ffaf5912e19",
   "metadata": {},
   "outputs": [
    {
     "name": "stdout",
     "output_type": "stream",
     "text": [
      "107\n"
     ]
    }
   ],
   "source": [
    "jml_outliers = (df_cleaned['length'] > batas_atas).sum()\n",
    "print(jml_outliers)"
   ]
  },
  {
   "cell_type": "code",
   "execution_count": 41,
   "id": "483c9f32-68e4-4897-87b2-4704144e83a7",
   "metadata": {},
   "outputs": [
    {
     "name": "stdout",
     "output_type": "stream",
     "text": [
      "2.78\n"
     ]
    }
   ],
   "source": [
    "persentase_outliers = jml_outliers / df_cleaned.shape[0] * 100\n",
    "print(f\"{persentase_outliers:.2f}\")"
   ]
  },
  {
   "cell_type": "markdown",
   "id": "7b243df7-9a52-4f84-ba27-8575da99d4bf",
   "metadata": {},
   "source": [
    "Outlier sudah berkurang menjadi 2.78% dari dataset"
   ]
  },
  {
   "cell_type": "code",
   "execution_count": 59,
   "id": "09f36734-ccff-461a-9a0e-6102a0b3b77f",
   "metadata": {},
   "outputs": [],
   "source": [
    "from sklearn.model_selection import train_test_split\n",
    "from sklearn.preprocessing import StandardScaler\n",
    "from sklearn.ensemble import RandomForestClassifier\n",
    "from sklearn.linear_model import LogisticRegression\n",
    "from sklearn.neighbors import KNeighborsClassifier\n",
    "from sklearn.metrics import accuracy_score\n",
    "import matplotlib.pyplot as plt\n",
    "import seaborn as sns"
   ]
  },
  {
   "cell_type": "code",
   "execution_count": 60,
   "id": "3e3531e1-1fdc-42df-a0f4-dba9338755bd",
   "metadata": {},
   "outputs": [
    {
     "name": "stdout",
     "output_type": "stream",
     "text": [
      "[0 1 2 3 4 5 6 7 8]\n"
     ]
    }
   ],
   "source": [
    "# Assuming the target column is 'Species', let's see the unique classes.\n",
    "print(df['species'].unique())"
   ]
  },
  {
   "cell_type": "code",
   "execution_count": 61,
   "id": "26331aa0-3eae-4dd2-99d4-4d5771806ebf",
   "metadata": {},
   "outputs": [],
   "source": [
    "# Convert categorical target 'Species' into numerical labels\n",
    "from sklearn.preprocessing import LabelEncoder\n",
    "label_encoder = LabelEncoder()\n",
    "df['species'] = label_encoder.fit_transform(df['species'])"
   ]
  },
  {
   "cell_type": "code",
   "execution_count": 62,
   "id": "d9fdd319-f1af-405a-bab8-9879fa2ad314",
   "metadata": {},
   "outputs": [],
   "source": [
    "# Splitting the dataset into features (X) and target (y)\n",
    "X = df.drop('species', axis=1)\n",
    "y = df['species']"
   ]
  },
  {
   "cell_type": "code",
   "execution_count": 63,
   "id": "35ccdc1c-74ae-4439-b77a-131074c2fecc",
   "metadata": {
    "scrolled": true
   },
   "outputs": [],
   "source": [
    "# Splitting the data into training and testing sets (80% training, 20% testing)\n",
    "X_train, X_test, y_train, y_test = train_test_split(X, y, test_size=0.2, random_state=42)"
   ]
  },
  {
   "cell_type": "code",
   "execution_count": 64,
   "id": "450e7cb7-e08d-4a82-97a0-d2c070ff4df4",
   "metadata": {},
   "outputs": [],
   "source": [
    "# Scaling the features (standardization) for algorithms that require it\n",
    "scaler = StandardScaler()\n",
    "X_train_scaled = scaler.fit_transform(X_train)\n",
    "X_test_scaled = scaler.transform(X_test)"
   ]
  },
  {
   "cell_type": "code",
   "execution_count": 65,
   "id": "d2fae4bb-363c-458a-9fa2-0e5be8c23658",
   "metadata": {},
   "outputs": [],
   "source": [
    "# Step 4: Modeling\n",
    "# Model 1: Logistic Regression\n",
    "logreg = LogisticRegression(max_iter=1000)\n",
    "logreg.fit(X_train_scaled, y_train)\n",
    "y_pred_logreg = logreg.predict(X_test_scaled)\n",
    "accuracy_logreg = accuracy_score(y_test, y_pred_logreg)"
   ]
  },
  {
   "cell_type": "code",
   "execution_count": 66,
   "id": "42b99ac8-d09f-4d11-a886-7ab0029580fd",
   "metadata": {},
   "outputs": [],
   "source": [
    "# Model 2: Random Forest\n",
    "rf = RandomForestClassifier(n_estimators=100, random_state=42)\n",
    "rf.fit(X_train, y_train)\n",
    "y_pred_rf = rf.predict(X_test)\n",
    "accuracy_rf = accuracy_score(y_test, y_pred_rf)"
   ]
  },
  {
   "cell_type": "code",
   "execution_count": 67,
   "id": "d8ba57b9-7cec-4d5f-a43a-55ae38e80248",
   "metadata": {},
   "outputs": [],
   "source": [
    "# Model 3: K-Nearest Neighbors (K-NN)\n",
    "knn = KNeighborsClassifier(n_neighbors=5)\n",
    "knn.fit(X_train_scaled, y_train)\n",
    "y_pred_knn = knn.predict(X_test_scaled)\n",
    "accuracy_knn = accuracy_score(y_test, y_pred_knn)"
   ]
  },
  {
   "cell_type": "code",
   "execution_count": 68,
   "id": "bba656e2-1a9a-4955-81d5-3f8bb92e16c2",
   "metadata": {},
   "outputs": [
    {
     "name": "stdout",
     "output_type": "stream",
     "text": [
      "Accuracy of Logistic Regression: 0.8872549019607843\n",
      "Accuracy of Random Forest: 0.9129901960784313\n",
      "Accuracy of K-NN: 0.9178921568627451\n"
     ]
    }
   ],
   "source": [
    "# Step 5: Evaluation\n",
    "# Display accuracy for each model\n",
    "print(f\"Accuracy of Logistic Regression: {accuracy_logreg}\")\n",
    "print(f\"Accuracy of Random Forest: {accuracy_rf}\")\n",
    "print(f\"Accuracy of K-NN: {accuracy_knn}\")"
   ]
  },
  {
   "cell_type": "code",
   "execution_count": null,
   "id": "9ad7e179-e784-48e8-a35c-9f1e4d97bd12",
   "metadata": {},
   "outputs": [],
   "source": []
  }
 ],
 "metadata": {
  "kernelspec": {
   "display_name": "Python 3 (ipykernel)",
   "language": "python",
   "name": "python3"
  },
  "language_info": {
   "codemirror_mode": {
    "name": "ipython",
    "version": 3
   },
   "file_extension": ".py",
   "mimetype": "text/x-python",
   "name": "python",
   "nbconvert_exporter": "python",
   "pygments_lexer": "ipython3",
   "version": "3.10.12"
  }
 },
 "nbformat": 4,
 "nbformat_minor": 5
}
